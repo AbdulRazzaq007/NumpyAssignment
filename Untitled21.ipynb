{
 "cells": [
  {
   "cell_type": "code",
   "execution_count": 1,
   "id": "04a5a87e",
   "metadata": {},
   "outputs": [],
   "source": [
    "# What is a Python library? Why do we use Python libraries?\n",
    "# A Python library is a collection of pre-written code that helps perform common tasks.\n",
    "# We use libraries to save time and avoid rewriting code."
   ]
  },
  {
   "cell_type": "code",
   "execution_count": 2,
   "id": "e152e094",
   "metadata": {},
   "outputs": [],
   "source": [
    "# What is the difference between a NumPy array and a Python list?\n",
    "# A NumPy array is faster, stores only one data type, and supports mathematical operations. \n",
    "# Lists are slower, can store mixed types, and lack built-in math operations."
   ]
  },
  {
   "cell_type": "code",
   "execution_count": 4,
   "id": "f88fdcb9",
   "metadata": {},
   "outputs": [
    {
     "name": "stdout",
     "output_type": "stream",
     "text": [
      "(3, 4)\n",
      "12\n",
      "2\n"
     ]
    }
   ],
   "source": [
    "# 3. Find the shape, size and dimension of the following array?\n",
    "# [[1, 2, 3, 4]\n",
    "# [5, 6, 7, 8],\n",
    "# [9, 10, 11, 12]]\n",
    "\n",
    "\n",
    "import numpy as np\n",
    "arr = np.array([[1, 2, 3, 4], [5, 6, 7, 8], [9, 10, 11, 12]])\n",
    "print(arr.shape)  # (3, 4)\n",
    "print(arr.size)   # 12\n",
    "print(arr.ndim)   # 2\n"
   ]
  },
  {
   "cell_type": "code",
   "execution_count": 5,
   "id": "6c80d968",
   "metadata": {},
   "outputs": [
    {
     "name": "stdout",
     "output_type": "stream",
     "text": [
      "[1 2 3 4]\n"
     ]
    }
   ],
   "source": [
    "# 4. Write python code to access the first row of the following array?\n",
    "# [[1, 2, 3, 4]\n",
    "# [5, 6, 7, 8],\n",
    "# [9, 10, 11, 12]]\n",
    "\n",
    "print(arr[0])  # [1, 2, 3, 4]\n"
   ]
  },
  {
   "cell_type": "code",
   "execution_count": 6,
   "id": "7549ad92",
   "metadata": {},
   "outputs": [
    {
     "name": "stdout",
     "output_type": "stream",
     "text": [
      "12\n"
     ]
    }
   ],
   "source": [
    "# 5. How do you access the element at the third row and fourth column from the given numpy array?\n",
    "# [[1, 2, 3, 4]\n",
    "# [5, 6, 7, 8],\n",
    "# [9, 10, 11, 12]]\n",
    "\n",
    "print(arr[2, 3])  # 12\n"
   ]
  },
  {
   "cell_type": "code",
   "execution_count": 18,
   "id": "1fef1369",
   "metadata": {},
   "outputs": [
    {
     "name": "stdout",
     "output_type": "stream",
     "text": [
      "[ 1  3  5  7  9 11]\n"
     ]
    }
   ],
   "source": [
    "# 6. Write code to extract all odd-indexed elements from the given numpy array?\n",
    "# [[1, 2, 3, 4]\n",
    "# [5, 6, 7, 8],\n",
    "# [9, 10, 11, 12]]\n",
    "print(arr[arr % 2 == 1])  # [1, 3, 5, 7, 9, 11]\n"
   ]
  },
  {
   "cell_type": "code",
   "execution_count": 20,
   "id": "82627df5",
   "metadata": {},
   "outputs": [
    {
     "name": "stdout",
     "output_type": "stream",
     "text": [
      "[[0.82193749 0.39109663 0.02829522]\n",
      " [0.72747921 0.97282377 0.34957962]\n",
      " [0.04606942 0.01432483 0.18844511]]\n"
     ]
    }
   ],
   "source": [
    "# 7. How can you generate a random 3x3 matrix with values between 0 and 1?\n",
    "rand_matrix = np.random.rand(3, 3)\n",
    "print(rand_matrix)\n"
   ]
  },
  {
   "cell_type": "code",
   "execution_count": 9,
   "id": "a9faa8cf",
   "metadata": {},
   "outputs": [],
   "source": [
    "# 8. Describe the difference between np.random.rand and np.random.randn?\n",
    "# np.random.rand generates random values between 0 and 1,\n",
    "# while np.random.randn generates values from a standard normal distribution."
   ]
  },
  {
   "cell_type": "code",
   "execution_count": 23,
   "id": "0509bff2",
   "metadata": {},
   "outputs": [
    {
     "name": "stdout",
     "output_type": "stream",
     "text": [
      "[[[ 1  2  3  4]\n",
      "  [ 5  6  7  8]\n",
      "  [ 9 10 11 12]]]\n"
     ]
    }
   ],
   "source": [
    "# 9. Write code to increase the dimension of the following array?\n",
    "# [[1, 2, 3, 4]\n",
    "# [5, 6, 7, 8],\n",
    "# [9, 10, 11, 12]]\n",
    "arr_expanded = np.expand_dims(arr, axis=0)\n",
    "print(arr_expanded)\n"
   ]
  },
  {
   "cell_type": "code",
   "execution_count": 25,
   "id": "c560a9f1",
   "metadata": {},
   "outputs": [
    {
     "name": "stdout",
     "output_type": "stream",
     "text": [
      "[[ 1  5  9]\n",
      " [ 2  6 10]\n",
      " [ 3  7 11]\n",
      " [ 4  8 12]]\n"
     ]
    }
   ],
   "source": [
    "# 10. How to transpose the following array in NumPy?\n",
    "# [[1, 2, 3, 4]\n",
    "# [5, 6, 7, 8],\n",
    "# [9, 10, 11, 12]]\n",
    "arr_transposed = arr.T\n",
    "print(arr_transposed)\n"
   ]
  },
  {
   "cell_type": "code",
   "execution_count": 27,
   "id": "37e020cc",
   "metadata": {},
   "outputs": [
    {
     "name": "stdout",
     "output_type": "stream",
     "text": [
      "[[  1   4   9  16]\n",
      " [ 25  36  49  64]\n",
      " [ 81 100 121 144]]\n",
      "[[ 30  70 110]\n",
      " [ 70 174 278]\n",
      " [110 278 446]]\n",
      "[[ 2  4  6  8]\n",
      " [10 12 14 16]\n",
      " [18 20 22 24]]\n",
      "[[0 0 0 0]\n",
      " [0 0 0 0]\n",
      " [0 0 0 0]]\n",
      "[[1. 1. 1. 1.]\n",
      " [1. 1. 1. 1.]\n",
      " [1. 1. 1. 1.]]\n"
     ]
    }
   ],
   "source": [
    "# 11. Consider the following matrix:\n",
    "# Matrix A: [[1, 2, 3, 4] [5, 6, 7, 8],[9, 10, 11, 12]]\n",
    "# Matrix B: [[1, 2, 3, 4] [5, 6, 7, 8],[9, 10, 11, 12]]\n",
    "# Perform the following operation using Python1\n",
    "# ,+ Index wise multiplicatio'\n",
    "# ]+ Matrix multiplicatio'\n",
    "# + Add both the matricK\n",
    "# -+ Subtract matrix B from \n",
    "# + Divide Matrix B by A\n",
    "A = np.array([[1, 2, 3, 4], [5, 6, 7, 8], [9, 10, 11, 12]])\n",
    "B = np.array([[1, 2, 3, 4], [5, 6, 7, 8], [9, 10, 11, 12]])\n",
    "\n",
    "print(A * B)\n",
    "\n",
    "print(np.dot(A, B.T))\n",
    "\n",
    "print(A + B)\n",
    "\n",
    "print(A - B)\n",
    "\n",
    "print(B / A)\n"
   ]
  },
  {
   "cell_type": "code",
   "execution_count": 13,
   "id": "3b2b64f6",
   "metadata": {},
   "outputs": [],
   "source": []
  },
  {
   "cell_type": "code",
   "execution_count": 14,
   "id": "2b3d67c3",
   "metadata": {},
   "outputs": [],
   "source": [
    "# 12. Which function in Numpy can be used to swap the byte order of an array?\n",
    "# np.ndarray.byteswap()"
   ]
  },
  {
   "cell_type": "code",
   "execution_count": 28,
   "id": "c21e806b",
   "metadata": {},
   "outputs": [],
   "source": [
    "# 13. What is the significance of the np.linalg.inv function?\n",
    "# It calculates the inverse of a square matrix"
   ]
  },
  {
   "cell_type": "code",
   "execution_count": 16,
   "id": "a62044d3",
   "metadata": {},
   "outputs": [],
   "source": [
    "# 14. What does the np.reshape function do, and how is it used?\n",
    "# It changes the shape of an array without changing data. For example, np.reshape(arr, (2, 6))."
   ]
  },
  {
   "cell_type": "code",
   "execution_count": 17,
   "id": "279db7dc",
   "metadata": {},
   "outputs": [],
   "source": [
    "# 15. What is broadcasting in Numpy?\n",
    "# Broadcasting allows NumPy to perform operations on arrays of different shapes by stretching smaller arrays."
   ]
  },
  {
   "cell_type": "code",
   "execution_count": null,
   "id": "e012781b",
   "metadata": {},
   "outputs": [],
   "source": []
  }
 ],
 "metadata": {
  "kernelspec": {
   "display_name": "Python 3 (ipykernel)",
   "language": "python",
   "name": "python3"
  },
  "language_info": {
   "codemirror_mode": {
    "name": "ipython",
    "version": 3
   },
   "file_extension": ".py",
   "mimetype": "text/x-python",
   "name": "python",
   "nbconvert_exporter": "python",
   "pygments_lexer": "ipython3",
   "version": "3.11.5"
  }
 },
 "nbformat": 4,
 "nbformat_minor": 5
}
